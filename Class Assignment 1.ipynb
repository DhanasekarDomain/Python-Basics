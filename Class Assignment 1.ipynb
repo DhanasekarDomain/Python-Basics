{
 "cells": [
  {
   "cell_type": "code",
   "execution_count": null,
   "id": "04f9180a-2cf7-4c3e-9956-8060fad016c8",
   "metadata": {},
   "outputs": [],
   "source": [
    "# Create a class and function, and list out the items in the list"
   ]
  },
  {
   "cell_type": "code",
   "execution_count": 1,
   "id": "7adae2d8-1863-4cd7-83bf-d5b48567af01",
   "metadata": {},
   "outputs": [],
   "source": [
    "class SubfieldsInAI():\n",
    "    def Subfields():\n",
    "        list1= \"Sub-fields in AI are:\",\"Machine Learning\",\"Neural Networks\",\"Vision\",\"Robotics\",\"Speech Processing\",\"Natural Language Processing\"\n",
    "        for word in list1:\n",
    "            print (word)"
   ]
  },
  {
   "cell_type": "code",
   "execution_count": 2,
   "id": "b79115d0-1332-4c91-874e-4f37b9c46427",
   "metadata": {},
   "outputs": [
    {
     "name": "stdout",
     "output_type": "stream",
     "text": [
      "Sub-fields in AI are:\n",
      "Machine Learning\n",
      "Neural Networks\n",
      "Vision\n",
      "Robotics\n",
      "Speech Processing\n",
      "Natural Language Processing\n"
     ]
    }
   ],
   "source": [
    "SubfieldsInAI.Subfields()"
   ]
  },
  {
   "cell_type": "code",
   "execution_count": 3,
   "id": "85d09a2d-fd6f-43cb-b160-176e5d984542",
   "metadata": {},
   "outputs": [],
   "source": [
    "# Create a function that checks whether the given number is Odd or Even"
   ]
  },
  {
   "cell_type": "code",
   "execution_count": 5,
   "id": "e134c768-9c71-4741-b8c7-0f845b05cd80",
   "metadata": {},
   "outputs": [],
   "source": [
    "class OddEven():\n",
    "    def OddEven():\n",
    "        Num=int(input(\"Enter a number:\"))\n",
    "        if (Num%2==0):\n",
    "            print(Num,\"is Even number\")\n",
    "            number= (Num,\"is Even number\")\n",
    "        else:\n",
    "            print(Num,\"is Odd number\")\n",
    "            number= (Num,\"is Odd number\")\n",
    "            return number"
   ]
  },
  {
   "cell_type": "code",
   "execution_count": 6,
   "id": "b070a578-cd5a-45a7-9669-5b3c9edc500f",
   "metadata": {},
   "outputs": [
    {
     "name": "stdin",
     "output_type": "stream",
     "text": [
      "Enter a number: 52452\n"
     ]
    },
    {
     "name": "stdout",
     "output_type": "stream",
     "text": [
      "52452 is Even number\n"
     ]
    }
   ],
   "source": [
    "OddEven.OddEven()"
   ]
  },
  {
   "cell_type": "code",
   "execution_count": 7,
   "id": "e444ee75-58b1-401c-b63a-2d000e8b6896",
   "metadata": {},
   "outputs": [],
   "source": [
    "# Create a function that tells elegibility of marriage for male and female according to their age limit like 21 for male and 18 for female"
   ]
  },
  {
   "cell_type": "code",
   "execution_count": 9,
   "id": "0c375fa2-24f0-4f85-ab8a-293a35012bf3",
   "metadata": {},
   "outputs": [],
   "source": [
    "class ElegiblityForMarriage():\n",
    "    def Elegible():\n",
    "        Gender=input(\"Your Gender:\")\n",
    "        Age=int(input(\"Your Age:\"))\n",
    "        if (Gender==\"Male\"):\n",
    "            if (Age>=21):\n",
    "                print(\"ELIGIBLE\")\n",
    "            else:\n",
    "                print(\"NOT ELIGIBLE\")\n",
    "        elif (Gender==\"Female\"):\n",
    "            if (Age>=18):\n",
    "                print(\"ELIGIBLE\")\n",
    "            else:\n",
    "                print(\"NOT ELIGIBLE\")   "
   ]
  },
  {
   "cell_type": "code",
   "execution_count": 10,
   "id": "22b45754-b895-42b1-9581-de531bf32355",
   "metadata": {},
   "outputs": [
    {
     "name": "stdin",
     "output_type": "stream",
     "text": [
      "Your Gender: Male\n",
      "Your Age: 20\n"
     ]
    },
    {
     "name": "stdout",
     "output_type": "stream",
     "text": [
      "NOT ELIGIBLE\n"
     ]
    }
   ],
   "source": [
    "ElegiblityForMarriage.Elegible()"
   ]
  },
  {
   "cell_type": "code",
   "execution_count": 11,
   "id": "a45e23c5-05c5-4585-a037-02bf2ca338df",
   "metadata": {},
   "outputs": [],
   "source": [
    "# calculate the percentage of your 10th mark"
   ]
  },
  {
   "cell_type": "code",
   "execution_count": 26,
   "id": "9a59f320-6e1b-4a16-a475-5a0a45e83a1f",
   "metadata": {},
   "outputs": [],
   "source": [
    "class FindPercent():\n",
    "    def percentage():\n",
    "        Sub1= int (input(\"Subject1=\"))\n",
    "        Sub2= int (input(\"Subject2=\"))\n",
    "        Sub3= int (input(\"Subject3=\"))\n",
    "        Sub4= int (input(\"Subject4=\"))\n",
    "        Sub5= int (input(\"Subject5=\"))\n",
    "        Total= (Sub1+Sub2+Sub3+Sub4+Sub5)\n",
    "        Percentage= (Total/5)\n",
    "        print (\"Total :\",Total)\n",
    "        print(f\"Percentage : {Percentage:.12f}\")"
   ]
  },
  {
   "cell_type": "code",
   "execution_count": 27,
   "id": "25ab8db7-7d20-414e-ab77-f2e1347d0159",
   "metadata": {},
   "outputs": [
    {
     "name": "stdin",
     "output_type": "stream",
     "text": [
      "Subject1= 98\n",
      "Subject2= 87\n",
      "Subject3= 95\n",
      "Subject4= 95\n",
      "Subject5= 93\n"
     ]
    },
    {
     "name": "stdout",
     "output_type": "stream",
     "text": [
      "Total : 468\n",
      "Percentage : 93.600000000000\n"
     ]
    }
   ],
   "source": [
    "FindPercent.percentage()"
   ]
  },
  {
   "cell_type": "code",
   "execution_count": 28,
   "id": "4967ba87-8e3b-4d69-ab5b-7d3205111c67",
   "metadata": {},
   "outputs": [],
   "source": [
    "#print area and perimeter of triangle using class and functions"
   ]
  },
  {
   "cell_type": "code",
   "execution_count": 29,
   "id": "e691d7e0-9800-4237-bb1f-e445b51aea64",
   "metadata": {},
   "outputs": [],
   "source": [
    "class triangle():\n",
    "    def triangle():\n",
    "        H=int(input(\"Height:\"))\n",
    "        B=int(input(\"Breadth:\"))\n",
    "        AF=(H*B/2)\n",
    "        print(\"Area formula: (Height*Breadth)/2\")\n",
    "        print(\"Area of Triangle:\",AF)\n",
    "        H1=int(input(\"Height1:\"))\n",
    "        H2=int(input(\"Height2:\"))\n",
    "        B1=int(input(\"Breadth:\"))\n",
    "        PF=(H1+H2+B1)\n",
    "        print(\"Perimeter formula: Height1+Height2+Breadth\")\n",
    "        print(\"Perimeter of Triangle:\",PF)"
   ]
  },
  {
   "cell_type": "code",
   "execution_count": 30,
   "id": "83a87a4f-a7b0-488f-aa23-3cdbfedc5816",
   "metadata": {},
   "outputs": [
    {
     "name": "stdin",
     "output_type": "stream",
     "text": [
      "Height: 32\n",
      "Breadth: 34\n"
     ]
    },
    {
     "name": "stdout",
     "output_type": "stream",
     "text": [
      "Area formula: (Height*Breadth)/2\n",
      "Area of Triangle: 544.0\n"
     ]
    },
    {
     "name": "stdin",
     "output_type": "stream",
     "text": [
      "Height1: 2\n",
      "Height2: 4\n",
      "Breadth: 4\n"
     ]
    },
    {
     "name": "stdout",
     "output_type": "stream",
     "text": [
      "Perimeter formula: Height1+Height2+Breadth\n",
      "Perimeter of Triangle: 10\n"
     ]
    }
   ],
   "source": [
    "triangle.triangle()"
   ]
  },
  {
   "cell_type": "code",
   "execution_count": null,
   "id": "162b27fe-cfa1-4eb9-97a5-39c6c6f052a2",
   "metadata": {},
   "outputs": [],
   "source": []
  }
 ],
 "metadata": {
  "kernelspec": {
   "display_name": "Python 3 (ipykernel)",
   "language": "python",
   "name": "python3"
  },
  "language_info": {
   "codemirror_mode": {
    "name": "ipython",
    "version": 3
   },
   "file_extension": ".py",
   "mimetype": "text/x-python",
   "name": "python",
   "nbconvert_exporter": "python",
   "pygments_lexer": "ipython3",
   "version": "3.13.5"
  }
 },
 "nbformat": 4,
 "nbformat_minor": 5
}
