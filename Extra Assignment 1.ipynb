{
 "cells": [
  {
   "cell_type": "markdown",
   "id": "aafe8ab6-9338-44a6-a41f-b3fc2d786c3b",
   "metadata": {},
   "source": [
    "HOPE AI "
   ]
  },
  {
   "cell_type": "code",
   "execution_count": 3,
   "id": "03bc6579-31b5-4e23-b465-5778a5628d43",
   "metadata": {},
   "outputs": [
    {
     "name": "stdout",
     "output_type": "stream",
     "text": [
      "HOPE AI\n"
     ]
    }
   ],
   "source": [
    "print ('HOPE AI')"
   ]
  },
  {
   "cell_type": "code",
   "execution_count": 5,
   "id": "76f244ae-bf01-4441-b0c4-113e9acb1e42",
   "metadata": {},
   "outputs": [
    {
     "name": "stdout",
     "output_type": "stream",
     "text": [
      "HOPE AI\n"
     ]
    }
   ],
   "source": [
    "print (\"HOPE AI\")"
   ]
  },
  {
   "cell_type": "markdown",
   "id": "73c2b709-5685-41c1-874d-b8cf4eb65e11",
   "metadata": {},
   "source": [
    "Enter your institute name? : HOPE AI"
   ]
  },
  {
   "cell_type": "code",
   "execution_count": 8,
   "id": "5caf6c0d-467e-4c0b-b88d-a69718072210",
   "metadata": {},
   "outputs": [
    {
     "name": "stdin",
     "output_type": "stream",
     "text": [
      "Enter your institute name? : HOPE AI\n"
     ]
    }
   ],
   "source": [
    "print= input(\"Enter your institute name? :\")"
   ]
  },
  {
   "cell_type": "markdown",
   "id": "c6abddd7-fdba-48d0-bc7c-fee001078f63",
   "metadata": {},
   "source": [
    "Enter your name: Raj\n",
    "Enter your age: 15\n",
    "Enter your school name: Guru school\n",
    "Enter your drgree: B.E CSE"
   ]
  },
  {
   "cell_type": "code",
   "execution_count": 10,
   "id": "e9b1513f-49c1-435b-947a-e3aa61577878",
   "metadata": {},
   "outputs": [
    {
     "name": "stdin",
     "output_type": "stream",
     "text": [
      "Enter your name: Raj\n",
      "Enter your age: 15\n",
      "Enter your school name: Guru school\n",
      "Enter your degree: B.E CSE\n"
     ]
    }
   ],
   "source": [
    "Detail_1= input(\"Enter your name:\")\n",
    "Detail_2= int(input(\"Enter your age:\"))\n",
    "Detail_3= input(\"Enter your school name:\")\n",
    "Detail_4= input(\"Enter your degree:\")"
   ]
  }
 ],
 "metadata": {
  "kernelspec": {
   "display_name": "Python 3 (ipykernel)",
   "language": "python",
   "name": "python3"
  },
  "language_info": {
   "codemirror_mode": {
    "name": "ipython",
    "version": 3
   },
   "file_extension": ".py",
   "mimetype": "text/x-python",
   "name": "python",
   "nbconvert_exporter": "python",
   "pygments_lexer": "ipython3",
   "version": "3.13.5"
  }
 },
 "nbformat": 4,
 "nbformat_minor": 5
}
