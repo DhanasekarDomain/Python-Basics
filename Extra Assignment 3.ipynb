{
 "cells": [
  {
   "cell_type": "code",
   "execution_count": 1,
   "id": "4f33b52c-57b3-4f81-b2be-c58d2e497872",
   "metadata": {},
   "outputs": [],
   "source": [
    "# print 'CORRECT' if i == 10"
   ]
  },
  {
   "cell_type": "code",
   "execution_count": 12,
   "id": "239175a0-9948-41d7-8d90-1131d52ebd22",
   "metadata": {},
   "outputs": [
    {
     "name": "stdout",
     "output_type": "stream",
     "text": [
      "Value: 10\n",
      "Correct\n"
     ]
    }
   ],
   "source": [
    "i= 1,10,20,25,36,35,345\n",
    "for num in i :\n",
    "    if (num==10):\n",
    "        print (\"Value:\",num)\n",
    "        print ('Correct')"
   ]
  },
  {
   "cell_type": "code",
   "execution_count": 13,
   "id": "94c3c6a9-228d-48e8-b188-bc69569f7144",
   "metadata": {},
   "outputs": [],
   "source": [
    "# Check the password, using if and else"
   ]
  },
  {
   "cell_type": "code",
   "execution_count": 17,
   "id": "d1b37818-5b9d-46c3-bf01-ee129c9d4faa",
   "metadata": {},
   "outputs": [
    {
     "name": "stdin",
     "output_type": "stream",
     "text": [
      "Enter the password: HOPE@123\n"
     ]
    },
    {
     "name": "stdout",
     "output_type": "stream",
     "text": [
      "Your password is correct\n"
     ]
    }
   ],
   "source": [
    "Password= input(\"Enter the password:\")\n",
    "if (Password==\"HOPE@123\"):\n",
    "    print (\"Your password is correct\")\n",
    "else:\n",
    "    print (\"Your password is wrong\")"
   ]
  },
  {
   "cell_type": "code",
   "execution_count": 18,
   "id": "0f59ad0a-e7ee-415c-80aa-845ac96de256",
   "metadata": {},
   "outputs": [],
   "source": [
    "# Catagory the people by their age like children, adult, citizen, senior citizen..."
   ]
  },
  {
   "cell_type": "code",
   "execution_count": 20,
   "id": "152a8830-c487-4acc-9ce9-36357bee2e2c",
   "metadata": {},
   "outputs": [
    {
     "name": "stdin",
     "output_type": "stream",
     "text": [
      "age: 20\n"
     ]
    },
    {
     "name": "stdout",
     "output_type": "stream",
     "text": [
      "Adult\n"
     ]
    }
   ],
   "source": [
    "Age= int(input(\"age:\"))\n",
    "if (Age<18):\n",
    "         print (\"children\")\n",
    "elif (Age<=35):\n",
    "         print (\"Adult\")\n",
    "elif (Age<=65):\n",
    "         print (\"citizen\")\n",
    "else:\n",
    "         print (\"senior citizen\")\n",
    "\n"
   ]
  },
  {
   "cell_type": "code",
   "execution_count": 21,
   "id": "3aa71ed0-e894-4789-8e55-d063d61222ce",
   "metadata": {},
   "outputs": [],
   "source": [
    "# Find whether given number is positive or negative"
   ]
  },
  {
   "cell_type": "code",
   "execution_count": 25,
   "id": "7ad64a49-5abc-4957-aeb9-53e131cd7ce5",
   "metadata": {},
   "outputs": [
    {
     "name": "stdin",
     "output_type": "stream",
     "text": [
      "Enter any number: 1\n"
     ]
    },
    {
     "name": "stdout",
     "output_type": "stream",
     "text": [
      "No is positive\n"
     ]
    }
   ],
   "source": [
    "Number= int (input(\"Enter any number:\"))\n",
    "if (Number>0):\n",
    "    print (\"No is positive\")\n",
    "else:\n",
    "    print (\"No is Negative\")"
   ]
  },
  {
   "cell_type": "code",
   "execution_count": 26,
   "id": "4f8301c4-0a1f-4c9a-b218-49d2d723590b",
   "metadata": {},
   "outputs": [],
   "source": [
    "# Check whether the given number is divisible by 5"
   ]
  },
  {
   "cell_type": "code",
   "execution_count": 27,
   "id": "15548b0a-6fc2-4367-a508-184ea684ce08",
   "metadata": {},
   "outputs": [
    {
     "name": "stdin",
     "output_type": "stream",
     "text": [
      "Enter a number to check: 22\n"
     ]
    },
    {
     "name": "stdout",
     "output_type": "stream",
     "text": [
      "No is not divisible by 5\n"
     ]
    }
   ],
   "source": [
    "Number= int (input(\"Enter a number to check:\"))\n",
    "if (Number/5==0):\n",
    "    print (\"No is divisible by 5\")\n",
    "else:\n",
    "    print (\"No is not divisible by 5\")\n",
    "            "
   ]
  },
  {
   "cell_type": "code",
   "execution_count": null,
   "id": "66adf0df-e5bf-4d36-8e3c-25d77e29cbfd",
   "metadata": {},
   "outputs": [],
   "source": []
  }
 ],
 "metadata": {
  "kernelspec": {
   "display_name": "Python 3 (ipykernel)",
   "language": "python",
   "name": "python3"
  },
  "language_info": {
   "codemirror_mode": {
    "name": "ipython",
    "version": 3
   },
   "file_extension": ".py",
   "mimetype": "text/x-python",
   "name": "python",
   "nbconvert_exporter": "python",
   "pygments_lexer": "ipython3",
   "version": "3.13.5"
  }
 },
 "nbformat": 4,
 "nbformat_minor": 5
}
