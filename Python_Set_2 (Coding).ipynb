{
 "cells": [
  {
   "cell_type": "code",
   "execution_count": null,
   "id": "aba1475d",
   "metadata": {},
   "outputs": [],
   "source": [
    "1.Write a Python program to find the reverse of a string. Expected Output (for input \"hello\"):\n",
    "olleh"
   ]
  },
  {
   "cell_type": "code",
   "execution_count": 1,
   "id": "ca423cff-d815-413a-8c8d-1d69e203cfaa",
   "metadata": {},
   "outputs": [
    {
     "name": "stdin",
     "output_type": "stream",
     "text": [
      " hello\n"
     ]
    },
    {
     "name": "stdout",
     "output_type": "stream",
     "text": [
      "olleh\n"
     ]
    }
   ],
   "source": [
    "text=input()\n",
    "reverse= text[::-1]\n",
    "print (reverse)"
   ]
  },
  {
   "cell_type": "code",
   "execution_count": null,
   "id": "5b1ec143",
   "metadata": {},
   "outputs": [],
   "source": [
    "2.Write a Python program to generate the Fibonacci sequence up to 10 terms.\n",
    "Expected Output:\n",
    "0 1 1 2 3 5 8 13 21 34"
   ]
  },
  {
   "cell_type": "code",
   "execution_count": 4,
   "id": "7ea436f6-0303-4b51-be4f-f37fbd87c7b0",
   "metadata": {},
   "outputs": [
    {
     "name": "stdout",
     "output_type": "stream",
     "text": [
      "0 1 1 2 3 5 8 13 21 34 "
     ]
    }
   ],
   "source": [
    "n=10\n",
    "a,b=0,1\n",
    "for fib in range(n):\n",
    "    print (a, end=\" \")\n",
    "    a,b=b , a+b"
   ]
  },
  {
   "cell_type": "code",
   "execution_count": null,
   "id": "c656f04a",
   "metadata": {},
   "outputs": [],
   "source": [
    "3.Write a Python function to check if a given string is a palindrome.\n",
    "Expected Output (for input \"madam\"):\n",
    "madam is a palindrome"
   ]
  },
  {
   "cell_type": "code",
   "execution_count": 17,
   "id": "73fc1357-c9e2-4e5c-838a-bde87b60a877",
   "metadata": {},
   "outputs": [],
   "source": [
    "def paindrome(k):\n",
    "    return k==k[::-1]    "
   ]
  },
  {
   "cell_type": "code",
   "execution_count": 22,
   "id": "77c639e9-0100-447a-89a2-4bb1d3630dab",
   "metadata": {},
   "outputs": [
    {
     "name": "stdin",
     "output_type": "stream",
     "text": [
      " madam\n"
     ]
    },
    {
     "name": "stdout",
     "output_type": "stream",
     "text": [
      "madam is a palindrome\n"
     ]
    }
   ],
   "source": [
    "text=input()\n",
    "if paindrome(text):\n",
    "    print (text,\"is a palindrome\")"
   ]
  },
  {
   "cell_type": "code",
   "execution_count": null,
   "id": "cd7b0a78",
   "metadata": {},
   "outputs": [],
   "source": [
    "4.Write a Python program to count the number of vowels in a given string. \n",
    "Expected Output (for input \"education\"):\n",
    "\n",
    "Number of vowels: 5"
   ]
  },
  {
   "cell_type": "code",
   "execution_count": 5,
   "id": "6121a17d-5f6c-4d32-a1e5-c999f151e7a8",
   "metadata": {},
   "outputs": [],
   "source": [
    "def count(n):\n",
    "    vowels= \"aeiouAEIOU\"\n",
    "    return sum(1 for char in n if char in vowels)"
   ]
  },
  {
   "cell_type": "code",
   "execution_count": 7,
   "id": "1a8c958e-aaef-4d57-a04f-79da7ec99eae",
   "metadata": {},
   "outputs": [
    {
     "name": "stdout",
     "output_type": "stream",
     "text": [
      "Number of vowels: 5\n"
     ]
    }
   ],
   "source": [
    "print(\"Number of vowels:\", count(\"education\"))"
   ]
  },
  {
   "cell_type": "code",
   "execution_count": null,
   "id": "bdbb9b19",
   "metadata": {},
   "outputs": [],
   "source": [
    "5.Write a Python program to remove duplicates from a list.\n",
    "Expected Output (for input [1, 2, 2, 3, 4, 4, 5]):\n",
    "\n",
    " [1, 2, 3, 4, 5]"
   ]
  },
  {
   "cell_type": "code",
   "execution_count": 14,
   "id": "c2ee26ae-0789-4539-bc1d-a8c73837c72b",
   "metadata": {},
   "outputs": [],
   "source": [
    "def remove_duplicate (lst):\n",
    "    return list(set(lst))"
   ]
  },
  {
   "cell_type": "code",
   "execution_count": 15,
   "id": "546db3d8-c046-4b13-945a-b8641a0d3b8f",
   "metadata": {},
   "outputs": [
    {
     "name": "stdout",
     "output_type": "stream",
     "text": [
      "[1, 2, 3, 4, 5]\n"
     ]
    }
   ],
   "source": [
    "print (remove_duplicate([1,2,2,3,4,4,5]))"
   ]
  },
  {
   "cell_type": "code",
   "execution_count": null,
   "id": "2ed4e103-aa10-47ad-be59-9e3cd4dd1b4e",
   "metadata": {},
   "outputs": [],
   "source": []
  }
 ],
 "metadata": {
  "kernelspec": {
   "display_name": "Python 3 (ipykernel)",
   "language": "python",
   "name": "python3"
  },
  "language_info": {
   "codemirror_mode": {
    "name": "ipython",
    "version": 3
   },
   "file_extension": ".py",
   "mimetype": "text/x-python",
   "name": "python",
   "nbconvert_exporter": "python",
   "pygments_lexer": "ipython3",
   "version": "3.13.5"
  }
 },
 "nbformat": 4,
 "nbformat_minor": 5
}
