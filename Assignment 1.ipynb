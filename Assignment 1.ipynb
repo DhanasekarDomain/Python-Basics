{
 "cells": [
  {
   "cell_type": "markdown",
   "id": "a84ac664-489f-4dad-80d4-15e19b5a52fe",
   "metadata": {},
   "source": [
    "Welcome to Assignment-1"
   ]
  },
  {
   "cell_type": "code",
   "execution_count": 1,
   "id": "884cc455-0a18-4e81-937e-af924a3e11ae",
   "metadata": {},
   "outputs": [
    {
     "name": "stdout",
     "output_type": "stream",
     "text": [
      "Welcome to Assignment-1\n"
     ]
    }
   ],
   "source": [
    "print (\"Welcome to Assignment-1\")"
   ]
  },
  {
   "cell_type": "markdown",
   "id": "c11e44dc-ed54-43a5-a08c-35891616d656",
   "metadata": {},
   "source": [
    "Num1= 10\n",
    "Num2= 30\n",
    "Add= 40"
   ]
  },
  {
   "cell_type": "code",
   "execution_count": 2,
   "id": "42800e77-896f-4a8c-897f-7cca6c1ddab4",
   "metadata": {},
   "outputs": [],
   "source": [
    "Num1=10"
   ]
  },
  {
   "cell_type": "code",
   "execution_count": 3,
   "id": "a8b56c17-9c66-4eeb-bf54-faad3fbbb9e9",
   "metadata": {},
   "outputs": [],
   "source": [
    "Num2=30"
   ]
  },
  {
   "cell_type": "code",
   "execution_count": 4,
   "id": "c70a7b3b-35d8-4e6a-960a-4574c996b279",
   "metadata": {},
   "outputs": [],
   "source": [
    "Add=Num1+Num2"
   ]
  },
  {
   "cell_type": "code",
   "execution_count": 5,
   "id": "a8639cf9-38c6-4415-9056-4c4f713920eb",
   "metadata": {},
   "outputs": [
    {
     "name": "stdout",
     "output_type": "stream",
     "text": [
      "Num1= 10\n",
      "Num2= 30\n",
      "Add= 40\n"
     ]
    }
   ],
   "source": [
    "print (\"Num1=\",Num1)\n",
    "print (\"Num2=\",Num2)\n",
    "print (\"Add=\",Add)"
   ]
  },
  {
   "cell_type": "markdown",
   "id": "eb44b153-79cb-4d30-b04d-13f50b35520b",
   "metadata": {},
   "source": [
    "Enter the BMI Index:34\n",
    "Very Overweight"
   ]
  },
  {
   "cell_type": "code",
   "execution_count": 6,
   "id": "d0869df7-c910-41c3-95fa-d2ea616e79c6",
   "metadata": {},
   "outputs": [
    {
     "name": "stdin",
     "output_type": "stream",
     "text": [
      "Enter the BMI Index: 34\n"
     ]
    },
    {
     "name": "stdout",
     "output_type": "stream",
     "text": [
      "Very Overweight\n"
     ]
    }
   ],
   "source": [
    "BMI= int(input(\"Enter the BMI Index:\"))\n",
    "if (BMI<=18.5):\n",
    "    print (\"Under Weight\")\n",
    "elif (BMI<=24.9):\n",
    "    print (\"Normal Weight\")\n",
    "elif (BMI<=29.9):\n",
    "    print (\"OverWeight\")\n",
    "else:\n",
    "    print (\"Very Overweight\")"
   ]
  },
  {
   "cell_type": "code",
   "execution_count": null,
   "id": "3ebf65bb-2476-42b4-bf2f-9a375c23a4f6",
   "metadata": {},
   "outputs": [],
   "source": []
  }
 ],
 "metadata": {
  "kernelspec": {
   "display_name": "Python 3 (ipykernel)",
   "language": "python",
   "name": "python3"
  },
  "language_info": {
   "codemirror_mode": {
    "name": "ipython",
    "version": 3
   },
   "file_extension": ".py",
   "mimetype": "text/x-python",
   "name": "python",
   "nbconvert_exporter": "python",
   "pygments_lexer": "ipython3",
   "version": "3.13.5"
  }
 },
 "nbformat": 4,
 "nbformat_minor": 5
}
