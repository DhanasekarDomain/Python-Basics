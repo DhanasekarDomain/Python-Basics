{
 "cells": [
  {
   "cell_type": "code",
   "execution_count": 1,
   "id": "c4ba237b-71df-430f-961a-69cd9201c3c9",
   "metadata": {},
   "outputs": [],
   "source": [
    "# Create a function, and list out the items in the list"
   ]
  },
  {
   "cell_type": "code",
   "execution_count": 11,
   "id": "8210229e-4daf-453d-9f20-c25b5fb0150e",
   "metadata": {},
   "outputs": [],
   "source": [
    "def Subfields():\n",
    "    list1= \"Sub-fields in AI are:\",\"Machine Learning\",\"Neural Networks\",\"Vision\",\"Robotics\",\"Speech Processing\",\"Natural Language Processing\"\n",
    "    for word in list1:\n",
    "        print (word)"
   ]
  },
  {
   "cell_type": "code",
   "execution_count": 12,
   "id": "8fd4ff37-55c4-41b5-99e1-68936e94e720",
   "metadata": {},
   "outputs": [
    {
     "name": "stdout",
     "output_type": "stream",
     "text": [
      "Sub-fields in AI are:\n",
      "Machine Learning\n",
      "Neural Networks\n",
      "Vision\n",
      "Robotics\n",
      "Speech Processing\n",
      "Natural Language Processing\n"
     ]
    }
   ],
   "source": [
    "Subfields()"
   ]
  },
  {
   "cell_type": "code",
   "execution_count": 13,
   "id": "8824d4a6-2a72-409e-8c4f-7a1b2838818e",
   "metadata": {},
   "outputs": [],
   "source": [
    "# Create a function that checks whether the given number is Odd or Even"
   ]
  },
  {
   "cell_type": "code",
   "execution_count": 16,
   "id": "cdbace01-4328-496d-86f5-271797dd13e3",
   "metadata": {},
   "outputs": [],
   "source": [
    "def OddEven():\n",
    "    Num=int(input(\"Enter a number:\"))\n",
    "    if (Num%2==0):\n",
    "        print(Num,\"is Even number\")\n",
    "        number= (Num,\"is Even number\")\n",
    "    else:\n",
    "        print(Num,\"is Odd number\")\n",
    "        number= (Num,\"is Odd number\")\n",
    "        return number"
   ]
  },
  {
   "cell_type": "code",
   "execution_count": 17,
   "id": "525b7bfa-9476-497f-a5f0-d11b527c4a0a",
   "metadata": {},
   "outputs": [
    {
     "name": "stdin",
     "output_type": "stream",
     "text": [
      "Enter a number: 52452\n"
     ]
    },
    {
     "name": "stdout",
     "output_type": "stream",
     "text": [
      "52452 is Even number\n"
     ]
    }
   ],
   "source": [
    "OddEven()"
   ]
  },
  {
   "cell_type": "code",
   "execution_count": 20,
   "id": "a8bd0ea5-27cf-4d0e-ba9a-1288978a3d44",
   "metadata": {},
   "outputs": [],
   "source": [
    "# Create a function that tells elegibility of marriage for male and female according to their age limit like 21 for male and 18 for female"
   ]
  },
  {
   "cell_type": "code",
   "execution_count": 38,
   "id": "2bb927c9-273d-43bb-8571-7e71aeef1c5d",
   "metadata": {},
   "outputs": [],
   "source": [
    "def Elegible():\n",
    "    Gender=input(\"Your Gender:\")\n",
    "    Age=int(input(\"Your Age:\"))\n",
    "    if (Gender==\"Male\"):\n",
    "        if (Age>=21):\n",
    "            print(\"ELIGIBLE\")\n",
    "        else:\n",
    "            print(\"NOT ELIGIBLE\")\n",
    "    elif (Gender==\"Female\"):\n",
    "        if (Age>=18):\n",
    "            print(\"ELIGIBLE\")\n",
    "        else:\n",
    "            print(\"NOT ELIGIBLE\")        "
   ]
  },
  {
   "cell_type": "code",
   "execution_count": 40,
   "id": "76d7c2f9-4255-4e78-89cc-9fbb930cfe41",
   "metadata": {},
   "outputs": [
    {
     "name": "stdin",
     "output_type": "stream",
     "text": [
      "Your Gender: Male\n",
      "Your Age: 20\n"
     ]
    },
    {
     "name": "stdout",
     "output_type": "stream",
     "text": [
      "NOT ELIGIBLE\n"
     ]
    }
   ],
   "source": [
    "Elegible()"
   ]
  },
  {
   "cell_type": "code",
   "execution_count": 41,
   "id": "61665a7c-2361-4afb-879f-8738b8c73020",
   "metadata": {},
   "outputs": [],
   "source": [
    "# calculate the percentage of your 10th mark"
   ]
  },
  {
   "cell_type": "code",
   "execution_count": 76,
   "id": "2f7919e8-4042-46f9-a81c-bcb1179ae854",
   "metadata": {},
   "outputs": [],
   "source": [
    "def percentage():\n",
    "    Sub1= int (input(\"Subject1=\"))\n",
    "    Sub2= int (input(\"Subject2=\"))\n",
    "    Sub3= int (input(\"Subject3=\"))\n",
    "    Sub4= int (input(\"Subject4=\"))\n",
    "    Sub5= int (input(\"Subject5=\"))\n",
    "    Total= (Sub1+Sub2+Sub3+Sub4+Sub5)\n",
    "    Percentage= (Total/5)\n",
    "    print (\"Total :\",Total)\n",
    "    print (\"Percentage :\", Percentage)    "
   ]
  },
  {
   "cell_type": "code",
   "execution_count": 77,
   "id": "c488ad37-1837-4c01-8eba-a8d650e029e0",
   "metadata": {},
   "outputs": [
    {
     "name": "stdin",
     "output_type": "stream",
     "text": [
      "Subject1= 98\n",
      "Subject2= 87\n",
      "Subject3= 95\n",
      "Subject4= 95\n",
      "Subject5= 93\n"
     ]
    },
    {
     "name": "stdout",
     "output_type": "stream",
     "text": [
      "Total : 468\n",
      "Percentage : 93.6\n"
     ]
    }
   ],
   "source": [
    "percentage()"
   ]
  },
  {
   "cell_type": "code",
   "execution_count": 78,
   "id": "39e86444-2516-412b-89c3-6587405254de",
   "metadata": {},
   "outputs": [],
   "source": [
    "#print area and perimeter of triangle using functions"
   ]
  },
  {
   "cell_type": "code",
   "execution_count": 79,
   "id": "9cd19ae0-7013-48f3-bf87-4f2ab904f2ed",
   "metadata": {},
   "outputs": [],
   "source": [
    "def triangle():\n",
    "    H=int(input(\"Height:\"))\n",
    "    B=int(input(\"Breadth:\"))\n",
    "    AF=(H*B/2)\n",
    "    print(\"Area formula: (Height*Breadth)/2\")\n",
    "    print(\"Area of Triangle:\",AF)\n",
    "    H1=int(input(\"Height1:\"))\n",
    "    H2=int(input(\"Height2:\"))\n",
    "    B1=int(input(\"Breadth:\"))\n",
    "    PF=(H1+H2+B1)\n",
    "    print(\"Perimeter formula: Height1+Height2+Breadth\")\n",
    "    print(\"Perimeter of Triangle:\",PF)"
   ]
  },
  {
   "cell_type": "code",
   "execution_count": 80,
   "id": "07b4c59a-62fe-4e7d-a4f1-4a1fd7a09f24",
   "metadata": {},
   "outputs": [
    {
     "name": "stdin",
     "output_type": "stream",
     "text": [
      "Height: 32\n",
      "Breadth: 34\n"
     ]
    },
    {
     "name": "stdout",
     "output_type": "stream",
     "text": [
      "Area formula: (Height*Breadth)/2\n",
      "Area of Triangle: 544.0\n"
     ]
    },
    {
     "name": "stdin",
     "output_type": "stream",
     "text": [
      "Height1: 2\n",
      "Height2: 4\n",
      "Breadth: 4\n"
     ]
    },
    {
     "name": "stdout",
     "output_type": "stream",
     "text": [
      "Perimeter formula: Height1+Height2+Breadth\n",
      "Perimeter of Triangle: 10\n"
     ]
    }
   ],
   "source": [
    "triangle()"
   ]
  },
  {
   "cell_type": "code",
   "execution_count": null,
   "id": "f221a5de-97f6-4907-8b6b-f69f734e3440",
   "metadata": {},
   "outputs": [],
   "source": []
  }
 ],
 "metadata": {
  "kernelspec": {
   "display_name": "Python 3 (ipykernel)",
   "language": "python",
   "name": "python3"
  },
  "language_info": {
   "codemirror_mode": {
    "name": "ipython",
    "version": 3
   },
   "file_extension": ".py",
   "mimetype": "text/x-python",
   "name": "python",
   "nbconvert_exporter": "python",
   "pygments_lexer": "ipython3",
   "version": "3.13.5"
  }
 },
 "nbformat": 4,
 "nbformat_minor": 5
}
