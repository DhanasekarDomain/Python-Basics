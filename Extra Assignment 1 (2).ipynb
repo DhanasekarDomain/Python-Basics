{
 "cells": [
  {
   "cell_type": "markdown",
   "id": "ae245d8e-ac83-4302-ae85-8d0c0464a9d2",
   "metadata": {},
   "source": [
    "a= 43\n",
    "b= 34\n",
    "add = 77"
   ]
  },
  {
   "cell_type": "code",
   "execution_count": 1,
   "id": "01291e63-6857-448b-a418-3efbb67fe41a",
   "metadata": {},
   "outputs": [],
   "source": [
    "a= 43\n",
    "b= 34\n",
    "add = a+b"
   ]
  },
  {
   "cell_type": "code",
   "execution_count": 4,
   "id": "6ec314f1-6b22-4f03-8e12-a81eccc16ca4",
   "metadata": {},
   "outputs": [
    {
     "name": "stdout",
     "output_type": "stream",
     "text": [
      "a= 43\n",
      "b= 34\n",
      "add = 77\n"
     ]
    }
   ],
   "source": [
    "print ('a=',a)\n",
    "print ('b=',b)\n",
    "print ('add =',add)"
   ]
  },
  {
   "cell_type": "markdown",
   "id": "122c8315-7a77-412b-ae8f-a7a3dcd68391",
   "metadata": {},
   "source": [
    "a= 43\n",
    "b= 34\n",
    "Sub = 9"
   ]
  },
  {
   "cell_type": "code",
   "execution_count": 5,
   "id": "524905ba-d7d2-4ab6-a692-19c9ec027e3b",
   "metadata": {},
   "outputs": [],
   "source": [
    "a= 43\n",
    "b= 34\n",
    "Sub = a-b"
   ]
  },
  {
   "cell_type": "code",
   "execution_count": 6,
   "id": "44259452-a098-4b62-8d1e-154e19a2fa98",
   "metadata": {},
   "outputs": [
    {
     "name": "stdout",
     "output_type": "stream",
     "text": [
      "a= 43\n",
      "b= 34\n",
      "Sub = 9\n"
     ]
    }
   ],
   "source": [
    "print ('a=',a)\n",
    "print ('b=',b)\n",
    "print ('Sub =',Sub)"
   ]
  },
  {
   "cell_type": "markdown",
   "id": "8aa06275-db5d-48e1-99af-6495e6d59041",
   "metadata": {},
   "source": [
    "a= 63\n",
    "b= 97\n",
    "Mul = 6111"
   ]
  },
  {
   "cell_type": "code",
   "execution_count": 7,
   "id": "b11f0977-dc91-420d-8d16-956b29a21209",
   "metadata": {},
   "outputs": [],
   "source": [
    "a= 63\n",
    "b= 97\n",
    "Mul = a*b"
   ]
  },
  {
   "cell_type": "code",
   "execution_count": 8,
   "id": "55ece7da-a6cb-4247-94e9-58e0bcb38504",
   "metadata": {},
   "outputs": [
    {
     "name": "stdout",
     "output_type": "stream",
     "text": [
      "a= 63\n",
      "b= 97\n",
      "Mul = 6111\n"
     ]
    }
   ],
   "source": [
    "print ('a=',a)\n",
    "print ('b=',b)\n",
    "print ('Mul =',Mul)"
   ]
  },
  {
   "cell_type": "markdown",
   "id": "b254e1ef-96b9-4312-af80-d9ff805ffba4",
   "metadata": {},
   "source": [
    "a= 76\n",
    "b= 31\n",
    "Float Div = 2.4516129032258065"
   ]
  },
  {
   "cell_type": "code",
   "execution_count": 10,
   "id": "b2960ad8-4bd8-4479-bc44-d7797a2086d1",
   "metadata": {},
   "outputs": [],
   "source": [
    "a= 76\n",
    "b= 31\n",
    "Float_Div = a/b"
   ]
  },
  {
   "cell_type": "code",
   "execution_count": 11,
   "id": "b08ee002-5ff4-45e6-8f99-1906ab9f0681",
   "metadata": {},
   "outputs": [
    {
     "name": "stdout",
     "output_type": "stream",
     "text": [
      "a= 76\n",
      "b= 31\n",
      "Float Div = 2.4516129032258065\n"
     ]
    }
   ],
   "source": [
    "print ('a=',a)\n",
    "print ('b=',b)\n",
    "print ('Float Div =',Float_Div)"
   ]
  },
  {
   "cell_type": "markdown",
   "id": "63f4c6f3-1989-4fb5-b5f7-13b77fff34ff",
   "metadata": {},
   "source": [
    "a= 76\n",
    "b= 31\n",
    "Floor Div = 2"
   ]
  },
  {
   "cell_type": "code",
   "execution_count": 13,
   "id": "d0a3b996-dfa6-44fb-88ae-f1bc913c9b1a",
   "metadata": {},
   "outputs": [],
   "source": [
    "a= 76\n",
    "b= 31\n",
    "Floor_Div = a//b"
   ]
  },
  {
   "cell_type": "code",
   "execution_count": 14,
   "id": "935874b4-d609-48ae-89dc-193f02c372c3",
   "metadata": {},
   "outputs": [
    {
     "name": "stdout",
     "output_type": "stream",
     "text": [
      "a= 76\n",
      "b= 31\n",
      "Floor Div = 2\n"
     ]
    }
   ],
   "source": [
    "print ('a=',a)\n",
    "print ('b=',b)\n",
    "print ('Floor Div =',Floor_Div)"
   ]
  },
  {
   "cell_type": "markdown",
   "id": "9feb96fb-4498-4747-929e-0f3f6ba2ac77",
   "metadata": {},
   "source": [
    "a= 76\n",
    "b= 31\n",
    "Modulo = 14"
   ]
  },
  {
   "cell_type": "code",
   "execution_count": 15,
   "id": "99d6c5cb-c111-4722-8470-bbbb0856d87f",
   "metadata": {},
   "outputs": [],
   "source": [
    "a= 76\n",
    "b= 31\n",
    "Modulo = a%b"
   ]
  },
  {
   "cell_type": "code",
   "execution_count": 16,
   "id": "5f0a6dc4-720b-48d2-a01c-2d8873825373",
   "metadata": {},
   "outputs": [
    {
     "name": "stdout",
     "output_type": "stream",
     "text": [
      "a= 76\n",
      "b= 31\n",
      "Modulo = 14\n"
     ]
    }
   ],
   "source": [
    "print ('a=',a)\n",
    "print ('b=',b)\n",
    "print ('Modulo =',Modulo)"
   ]
  },
  {
   "cell_type": "markdown",
   "id": "f333afae-c558-4e4e-a290-171fc671c20b",
   "metadata": {},
   "source": [
    "a= 4\n",
    "b= 4\n",
    "Power = 256"
   ]
  },
  {
   "cell_type": "code",
   "execution_count": 17,
   "id": "51ba0c27-0887-44a9-814b-a68b162d9272",
   "metadata": {},
   "outputs": [],
   "source": [
    "a= 4\n",
    "b= 4\n",
    "Power = a**b"
   ]
  },
  {
   "cell_type": "code",
   "execution_count": 18,
   "id": "c2982288-62fb-4a94-b8d2-b3319f9dfacf",
   "metadata": {},
   "outputs": [
    {
     "name": "stdout",
     "output_type": "stream",
     "text": [
      "a= 4\n",
      "b= 4\n",
      "Power = 256\n"
     ]
    }
   ],
   "source": [
    "print ('a=',a)\n",
    "print ('b=',b)\n",
    "print ('Power =',Power)"
   ]
  },
  {
   "cell_type": "code",
   "execution_count": null,
   "id": "d1c5d277-9cfe-4cc9-a56d-06db693ceb1e",
   "metadata": {},
   "outputs": [],
   "source": []
  }
 ],
 "metadata": {
  "kernelspec": {
   "display_name": "Python 3 (ipykernel)",
   "language": "python",
   "name": "python3"
  },
  "language_info": {
   "codemirror_mode": {
    "name": "ipython",
    "version": 3
   },
   "file_extension": ".py",
   "mimetype": "text/x-python",
   "name": "python",
   "nbconvert_exporter": "python",
   "pygments_lexer": "ipython3",
   "version": "3.13.5"
  }
 },
 "nbformat": 4,
 "nbformat_minor": 5
}
