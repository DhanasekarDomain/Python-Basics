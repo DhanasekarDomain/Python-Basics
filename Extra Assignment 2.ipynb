{
 "cells": [
  {
   "cell_type": "code",
   "execution_count": 1,
   "id": "6b71a138-cee0-4545-9569-ee5659cd3dc5",
   "metadata": {},
   "outputs": [],
   "source": [
    "#print 0 to 20 by using range"
   ]
  },
  {
   "cell_type": "code",
   "execution_count": 2,
   "id": "efdb0a79-60f7-4c14-b7a5-3b0ada125c1a",
   "metadata": {},
   "outputs": [
    {
     "name": "stdout",
     "output_type": "stream",
     "text": [
      "0\n",
      "1\n",
      "2\n",
      "3\n",
      "4\n",
      "5\n",
      "6\n",
      "7\n",
      "8\n",
      "9\n",
      "10\n",
      "11\n",
      "12\n",
      "13\n",
      "14\n",
      "15\n",
      "16\n",
      "17\n",
      "18\n",
      "19\n"
     ]
    }
   ],
   "source": [
    "for i in range(20):\n",
    "    print (i)"
   ]
  },
  {
   "cell_type": "code",
   "execution_count": 3,
   "id": "d2d65804-1177-452f-8ab2-0cc6b600f20e",
   "metadata": {},
   "outputs": [],
   "source": [
    "#print range 10 to 20 ( horizontal )"
   ]
  },
  {
   "cell_type": "code",
   "execution_count": 4,
   "id": "3def06ed-dc99-4976-a24c-f6f3cb74b109",
   "metadata": {},
   "outputs": [
    {
     "name": "stdout",
     "output_type": "stream",
     "text": [
      "10 11 12 13 14 15 16 17 18 19 "
     ]
    }
   ],
   "source": [
    "for i in range(10,20):\n",
    "    print (i,end=' ')"
   ]
  },
  {
   "cell_type": "code",
   "execution_count": 5,
   "id": "83d58089-91a0-4baa-97b0-f26da471a8af",
   "metadata": {},
   "outputs": [],
   "source": [
    "# Print number of items in the list by using 'len'"
   ]
  },
  {
   "cell_type": "code",
   "execution_count": 7,
   "id": "06404496-10dd-43c6-ad53-cc6ee0dc6a08",
   "metadata": {},
   "outputs": [],
   "source": [
    "List2= (10,20,14,55,43,87,76)"
   ]
  },
  {
   "cell_type": "code",
   "execution_count": 9,
   "id": "9348561b-d698-44b9-aa84-7c3debebdc1a",
   "metadata": {},
   "outputs": [
    {
     "name": "stdout",
     "output_type": "stream",
     "text": [
      "[10, 20, 14, 55, 43, 87, 76]\n",
      "Number of item in the List2:\n",
      "7\n"
     ]
    }
   ],
   "source": [
    "print(list(List2))\n",
    "print (\"Number of item in the List2:\")\n",
    "print (len(List2))"
   ]
  },
  {
   "cell_type": "code",
   "execution_count": 22,
   "id": "54fc6a95-2b7f-4af3-80c6-67e054ccfb8f",
   "metadata": {},
   "outputs": [
    {
     "name": "stdout",
     "output_type": "stream",
     "text": [
      "Artificial Intelligence\n",
      "A\n",
      "r\n",
      "t\n",
      "i\n",
      "f\n",
      "i\n",
      "c\n",
      "i\n",
      "a\n",
      "l\n",
      " \n",
      "I\n",
      "n\n",
      "t\n",
      "e\n",
      "l\n",
      "l\n",
      "i\n",
      "g\n",
      "e\n",
      "n\n",
      "c\n",
      "e\n"
     ]
    }
   ],
   "source": [
    "print (\"Artificial Intelligence\")\n",
    "words= \"Artificial Intelligence\"\n",
    "for word in words:\n",
    "    print (word)"
   ]
  },
  {
   "cell_type": "code",
   "execution_count": 24,
   "id": "3e2ff245-17f8-4026-8c83-fb44a66a18a6",
   "metadata": {},
   "outputs": [
    {
     "name": "stdout",
     "output_type": "stream",
     "text": [
      "-Your Name-\n",
      "-Your Age-\n",
      "-Your Profession-\n"
     ]
    }
   ],
   "source": [
    "print(\"-Your Name-\")\n",
    "print(\"-Your Age-\")\n",
    "print(\"-Your Profession-\")\n"
   ]
  },
  {
   "cell_type": "code",
   "execution_count": 26,
   "id": "858b2b07-1581-4ef9-98cc-79bf848609f6",
   "metadata": {},
   "outputs": [
    {
     "name": "stdout",
     "output_type": "stream",
     "text": [
      "-Your Name-\n",
      "-Your Age-\n",
      "-Your Profession-\n"
     ]
    }
   ],
   "source": [
    "word= \"-Your Name-\",\"-Your Age-\",\"-Your Profession-\"\n",
    "for words in word:\n",
    "    print(words)"
   ]
  },
  {
   "cell_type": "code",
   "execution_count": 27,
   "id": "61faabd4-5717-4ee6-864f-c78978a6241f",
   "metadata": {},
   "outputs": [],
   "source": [
    "# Print this mixered datatype using Tuples"
   ]
  },
  {
   "cell_type": "code",
   "execution_count": 33,
   "id": "35a92beb-c010-46e4-9d47-1cdffad35118",
   "metadata": {},
   "outputs": [
    {
     "name": "stdout",
     "output_type": "stream",
     "text": [
      "(1, 'Welcome', 2, 'Hope')\n"
     ]
    }
   ],
   "source": [
    "t1= (1, 'Welcome', 2, 'Hope')\n",
    "print (t1)"
   ]
  },
  {
   "cell_type": "code",
   "execution_count": 35,
   "id": "c69c20c9-ddcc-404d-881b-257ba0e11089",
   "metadata": {},
   "outputs": [
    {
     "name": "stdout",
     "output_type": "stream",
     "text": [
      "((0, 1, 2, 3), ('Python', 'HOPE'))\n"
     ]
    }
   ],
   "source": [
    "t1=(0,1,2,3)\n",
    "t2=('Python','HOPE')\n",
    "t3= (t1,t2)\n",
    "print(t3)"
   ]
  },
  {
   "cell_type": "code",
   "execution_count": 37,
   "id": "f52954a3-4bd5-4d09-97d7-e9e9df9787aa",
   "metadata": {},
   "outputs": [],
   "source": [
    "# print Odd Numbers in the list"
   ]
  },
  {
   "cell_type": "code",
   "execution_count": 48,
   "id": "41fd01e8-8f6c-4bf6-8467-afceae5aecf4",
   "metadata": {},
   "outputs": [
    {
     "name": "stdout",
     "output_type": "stream",
     "text": [
      "(20, 10, 16, 19, 25, 1, 276, 188)\n",
      "19 is odd\n",
      "25 is odd\n",
      "1 is odd\n"
     ]
    }
   ],
   "source": [
    "list1= 20,10,16,19,25,1,276,188\n",
    "print ((list1))\n",
    "for num in list1:\n",
    "    if (num %2==1):\n",
    "        print(num,\"is odd\")"
   ]
  },
  {
   "cell_type": "code",
   "execution_count": 49,
   "id": "f94cbce6-55df-4243-94f5-3fe4d4f74f01",
   "metadata": {},
   "outputs": [],
   "source": [
    "# print Even numbers in the list"
   ]
  },
  {
   "cell_type": "code",
   "execution_count": 50,
   "id": "60cee2bf-9f0e-4fac-ba01-52e2b31d1464",
   "metadata": {},
   "outputs": [
    {
     "name": "stdout",
     "output_type": "stream",
     "text": [
      "(20, 10, 16, 19, 25, 1, 276, 188)\n",
      "20 is even\n",
      "10 is even\n",
      "16 is even\n",
      "276 is even\n",
      "188 is even\n"
     ]
    }
   ],
   "source": [
    "list1=(20,10,16,19,25,1,276,188)\n",
    "print(list1)\n",
    "for number in list1:\n",
    "    if (number%2==0):\n",
    "        print(number,\"is even\")"
   ]
  },
  {
   "cell_type": "code",
   "execution_count": null,
   "id": "22ef6816-5591-4f8f-86f8-e26ce91558ac",
   "metadata": {},
   "outputs": [],
   "source": []
  }
 ],
 "metadata": {
  "kernelspec": {
   "display_name": "Python 3 (ipykernel)",
   "language": "python",
   "name": "python3"
  },
  "language_info": {
   "codemirror_mode": {
    "name": "ipython",
    "version": 3
   },
   "file_extension": ".py",
   "mimetype": "text/x-python",
   "name": "python",
   "nbconvert_exporter": "python",
   "pygments_lexer": "ipython3",
   "version": "3.13.5"
  }
 },
 "nbformat": 4,
 "nbformat_minor": 5
}
