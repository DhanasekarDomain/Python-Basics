{
 "cells": [
  {
   "cell_type": "code",
   "execution_count": 56,
   "id": "e0cda6bb",
   "metadata": {
    "id": "e0cda6bb"
   },
   "outputs": [],
   "source": [
    "#1.What is wrong with the following function definition, and how do you fix it?\n",
    "\n",
    "\n",
    "def say_hello (name):\n",
    "  print(\"Hello\" + name)"
   ]
  },
  {
   "cell_type": "code",
   "execution_count": 57,
   "id": "d945bb34-ab6a-4c5c-ab69-8398f44fcd53",
   "metadata": {},
   "outputs": [
    {
     "ename": "NameError",
     "evalue": "name 'name' is not defined",
     "output_type": "error",
     "traceback": [
      "\u001b[31m---------------------------------------------------------------------------\u001b[39m",
      "\u001b[31mNameError\u001b[39m                                 Traceback (most recent call last)",
      "\u001b[36mCell\u001b[39m\u001b[36m \u001b[39m\u001b[32mIn[57]\u001b[39m\u001b[32m, line 1\u001b[39m\n\u001b[32m----> \u001b[39m\u001b[32m1\u001b[39m say_hello(\u001b[43mname\u001b[49m)\n",
      "\u001b[31mNameError\u001b[39m: name 'name' is not defined"
     ]
    }
   ],
   "source": [
    "say_hello(name)"
   ]
  },
  {
   "cell_type": "code",
   "execution_count": 31,
   "id": "8e33c083",
   "metadata": {
    "id": "8e33c083"
   },
   "outputs": [
    {
     "name": "stdout",
     "output_type": "stream",
     "text": [
      "I am 25 years old\n"
     ]
    }
   ],
   "source": [
    "#2.What error will occur in the following code, and how do you fix it?\n",
    "\n",
    "\n",
    "age =str(25)\n",
    "print(\"I am \" + age + \" years old\")\n"
   ]
  },
  {
   "cell_type": "code",
   "execution_count": 11,
   "id": "52da6958",
   "metadata": {
    "id": "52da6958"
   },
   "outputs": [],
   "source": [
    "#3.Question:\n",
    "#What is the issue with the following code?\n",
    "\n",
    "def greet():\n",
    "    message = \"Hello\"\n",
    "    print (message)"
   ]
  },
  {
   "cell_type": "code",
   "execution_count": 13,
   "id": "1f0258ee-40f2-4cdc-badc-b9eeb67b1c67",
   "metadata": {},
   "outputs": [
    {
     "name": "stdout",
     "output_type": "stream",
     "text": [
      "Hello\n"
     ]
    }
   ],
   "source": [
    "greet()"
   ]
  },
  {
   "cell_type": "code",
   "execution_count": 21,
   "id": "98d811ab",
   "metadata": {
    "id": "98d811ab"
   },
   "outputs": [
    {
     "name": "stdout",
     "output_type": "stream",
     "text": [
      "9\n"
     ]
    }
   ],
   "source": [
    "#4.What error will occur in the following code, and how do you fix it?\n",
    "\n",
    "def add(a, b):\n",
    "    return a + b\n",
    "print(add(5,4))\n"
   ]
  },
  {
   "cell_type": "code",
   "execution_count": 26,
   "id": "87cdb40a",
   "metadata": {
    "id": "87cdb40a"
   },
   "outputs": [],
   "source": [
    "#5.What is wrong with this code?\n",
    "\n",
    "def is_even(n):\n",
    "    if n % 2 == 0:\n",
    "        return True\n",
    "    else:\n",
    "        return False"
   ]
  },
  {
   "cell_type": "code",
   "execution_count": 27,
   "id": "38b0dc80-abee-4bcd-b892-9b572da4bdec",
   "metadata": {},
   "outputs": [
    {
     "data": {
      "text/plain": [
       "True"
      ]
     },
     "execution_count": 27,
     "metadata": {},
     "output_type": "execute_result"
    }
   ],
   "source": [
    "is_even(4)"
   ]
  },
  {
   "cell_type": "code",
   "execution_count": 29,
   "id": "9849beed",
   "metadata": {
    "id": "9849beed"
   },
   "outputs": [
    {
     "name": "stdout",
     "output_type": "stream",
     "text": [
      "10a\n"
     ]
    }
   ],
   "source": [
    "#6.What happens when you run this code?\n",
    "\n",
    "num = str(\"10a\")\n",
    "print(num)\n"
   ]
  },
  {
   "cell_type": "code",
   "execution_count": 64,
   "id": "e2de2ed1",
   "metadata": {
    "id": "e2de2ed1"
   },
   "outputs": [
    {
     "name": "stdout",
     "output_type": "stream",
     "text": [
      "[4, 3, 2, 1]\n"
     ]
    }
   ],
   "source": [
    "#7.What will happen when you run the following code?\n",
    "\n",
    "\n",
    "numbers = [1, 2, 3, 4]\n",
    "numbers.reverse()\n",
    "print(numbers)"
   ]
  },
  {
   "cell_type": "code",
   "execution_count": 63,
   "id": "76c3f328",
   "metadata": {
    "id": "76c3f328"
   },
   "outputs": [
    {
     "name": "stdout",
     "output_type": "stream",
     "text": [
      "[1, 2, 3, 4]\n"
     ]
    }
   ],
   "source": [
    "#8.What is the issue with this code?\n",
    "\n",
    "\n",
    "numbers = [1, 2, 3]\n",
    "numbers.append(4)\n",
    "print(numbers)\n"
   ]
  },
  {
   "cell_type": "code",
   "execution_count": 44,
   "id": "4e03b70d",
   "metadata": {
    "id": "4e03b70d"
   },
   "outputs": [],
   "source": [
    "#9.What will happen when you run the following code?\n",
    "\n",
    "def increment():\n",
    "    count = 10\n",
    "    count += 1\n",
    "    print(count)"
   ]
  },
  {
   "cell_type": "code",
   "execution_count": 45,
   "id": "ad5cf239-5ec4-4294-b0bd-79092e02f24c",
   "metadata": {},
   "outputs": [
    {
     "name": "stdout",
     "output_type": "stream",
     "text": [
      "11\n"
     ]
    }
   ],
   "source": [
    "increment()"
   ]
  },
  {
   "cell_type": "code",
   "execution_count": 47,
   "id": "2034a700",
   "metadata": {
    "id": "2034a700"
   },
   "outputs": [
    {
     "name": "stdout",
     "output_type": "stream",
     "text": [
      "n\n"
     ]
    }
   ],
   "source": [
    "#10.What error will occur in the following code?\n",
    "\n",
    "text = \"Python\"\n",
    "print(text[5])\n"
   ]
  },
  {
   "cell_type": "code",
   "execution_count": null,
   "id": "1bf753bf",
   "metadata": {
    "id": "1bf753bf"
   },
   "outputs": [],
   "source": []
  },
  {
   "cell_type": "code",
   "execution_count": null,
   "id": "332e6058",
   "metadata": {
    "id": "332e6058"
   },
   "outputs": [],
   "source": []
  },
  {
   "cell_type": "code",
   "execution_count": null,
   "id": "e9f9ec4a",
   "metadata": {
    "id": "e9f9ec4a"
   },
   "outputs": [],
   "source": []
  },
  {
   "cell_type": "code",
   "execution_count": null,
   "id": "a4ac24f3",
   "metadata": {
    "id": "a4ac24f3"
   },
   "outputs": [],
   "source": []
  },
  {
   "cell_type": "code",
   "execution_count": null,
   "id": "a131a6e8",
   "metadata": {
    "id": "a131a6e8"
   },
   "outputs": [],
   "source": []
  },
  {
   "cell_type": "code",
   "execution_count": null,
   "id": "9c76c104",
   "metadata": {
    "id": "9c76c104"
   },
   "outputs": [],
   "source": []
  },
  {
   "cell_type": "code",
   "execution_count": null,
   "id": "00877add",
   "metadata": {
    "id": "00877add"
   },
   "outputs": [],
   "source": []
  },
  {
   "cell_type": "code",
   "execution_count": null,
   "id": "5c9757c9",
   "metadata": {
    "id": "5c9757c9"
   },
   "outputs": [],
   "source": []
  },
  {
   "cell_type": "code",
   "execution_count": null,
   "id": "77922c34",
   "metadata": {
    "id": "77922c34"
   },
   "outputs": [],
   "source": []
  },
  {
   "cell_type": "code",
   "execution_count": null,
   "id": "85723416",
   "metadata": {
    "id": "85723416"
   },
   "outputs": [],
   "source": []
  },
  {
   "cell_type": "code",
   "execution_count": null,
   "id": "43418092",
   "metadata": {
    "id": "43418092"
   },
   "outputs": [],
   "source": []
  }
 ],
 "metadata": {
  "colab": {
   "provenance": []
  },
  "kernelspec": {
   "display_name": "Python 3 (ipykernel)",
   "language": "python",
   "name": "python3"
  },
  "language_info": {
   "codemirror_mode": {
    "name": "ipython",
    "version": 3
   },
   "file_extension": ".py",
   "mimetype": "text/x-python",
   "name": "python",
   "nbconvert_exporter": "python",
   "pygments_lexer": "ipython3",
   "version": "3.13.7"
  }
 },
 "nbformat": 4,
 "nbformat_minor": 5
}
